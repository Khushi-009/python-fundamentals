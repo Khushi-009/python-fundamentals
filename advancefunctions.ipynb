{
 "cells": [
  {
   "cell_type": "markdown",
   "id": "da0858f3",
   "metadata": {},
   "source": [
    "# Module 4: Advanced Functions Assignments\n",
    "## Lesson 4.1: Defining Functions\n",
    "### Assignment 1: Fibonacci Sequence with Memoization\n",
    "\n",
    "Define a recursive function to calculate the nth Fibonacci number using memoization. Test the function with different inputs.\n",
    "\n",
    "### Assignment 2: Function with Nested Default Arguments\n",
    "\n",
    "Define a function that takes two arguments, a and b, where b is a dictionary with a default value of an empty dictionary. The function should add a new key-value pair to the dictionary and return it. Test the function with different inputs.\n",
    "\n",
    "### Assignment 3: Function with Variable Keyword Arguments\n",
    "\n",
    "Define a function that takes a variable number of keyword arguments and returns a dictionary containing only those key-value pairs where the value is an integer. Test the function with different inputs.\n",
    "\n",
    "### Assignment 4: Function with Callback\n",
    "\n",
    "Define a function that takes another function as a callback and a list of integers. The function should apply the callback to each integer in the list and return a new list with the results. Test with different callback functions.\n",
    "\n",
    "### Assignment 5: Function that Returns a Function\n",
    "\n",
    "Define a function that returns another function. The returned function should take an integer and return its square. Test the returned function with different inputs.\n",
    "\n",
    "### Assignment 6: Function with Decorators\n",
    "\n",
    "Define a function that calculates the time taken to execute another function. Apply this decorator to a function that performs a complex calculation. Test the decorated function with different inputs.\n",
    "\n",
    "### Assignment 7: Higher-Order Function for Filtering and Mapping\n",
    "\n",
    "Define a higher-order function that takes two functions, a filter function and a map function, along with a list of integers. The higher-order function should first filter the integers using the filter function and then apply the map function to the filtered integers. Test with different filter and map functions.\n",
    "\n",
    "### Assignment 8: Function Composition\n",
    "\n",
    "Define a function that composes two functions, f and g, such that the result is f(g(x)). Test with different functions f and g.\n",
    "\n",
    "### Assignment 9: Partial Function Application\n",
    "\n",
    "Use the functools.partial function to create a new function that multiplies its input by 2. Test the new function with different inputs.\n",
    "\n",
    "### Assignment 10: Function with Error Handling\n",
    "\n",
    "Define a function that takes a list of integers and returns their average. The function should handle any errors that occur (e.g., empty list) and return None in such cases. Test with different inputs.\n",
    "\n",
    "### Assignment 11: Function with Generators\n",
    "\n",
    "Define a function that generates an infinite sequence of Fibonacci numbers. Test by printing the first 10 numbers in the sequence.\n",
    "\n",
    "### Assignment 12: Currying\n",
    "\n",
    "Define a curried function that takes three arguments, one at a time, and returns their product. Test the function by providing arguments one at a time.\n",
    "\n",
    "### Assignment 13: Function with Context Manager\n",
    "\n",
    "Define a function that uses a context manager to write a list of integers to a file. The function should handle any errors that occur during file operations. Test with different lists.\n",
    "\n",
    "### Assignment 14: Function with Multiple Return Types\n",
    "\n",
    "Define a function that takes a list of mixed data types (integers, strings, and floats) and returns three lists: one containing all the integers, one containing all the strings, and one containing all the floats. Test with different inputs.\n",
    "\n",
    "### Assignment 15: Function with State\n",
    "\n",
    "Define a function that maintains state between calls using a mutable default argument. The function should keep track of how many times it has been called. Test by calling the function multiple times."
   ]
  },
  {
   "cell_type": "code",
   "execution_count": null,
   "id": "a36da6e0",
   "metadata": {},
   "outputs": [
    {
     "name": "stdout",
     "output_type": "stream",
     "text": [
      "55\n",
      "610\n"
     ]
    }
   ],
   "source": [
    "# Assignment 1\n",
    "def fibonacci(n, memo={}):\n",
    "    # memo is a ductionary which stores value\n",
    "    # base condition to prevent it from going into infinite loop\n",
    "    if n <= 0:\n",
    "        return 0\n",
    "    elif n == 1:\n",
    "        return 1\n",
    "    \n",
    "    # condition to check if the value is already present in the memo\n",
    "    if n in memo:\n",
    "        return memo[n]\n",
    "    \n",
    "    memo[n] = fibonacci(n-1, memo) + fibonacci(n-2, memo)\n",
    "    return memo[n]\n",
    "\n",
    "\n",
    "print(fibonacci(10))\n",
    "print(fibonacci(15))    "
   ]
  },
  {
   "cell_type": "code",
   "execution_count": 10,
   "id": "b15f9925",
   "metadata": {},
   "outputs": [
    {
     "name": "stdout",
     "output_type": "stream",
     "text": [
      "{2: 4}\n",
      "{3: 9}\n",
      "{4: 16}\n",
      "{1: 1, 3: 9}\n"
     ]
    }
   ],
   "source": [
    "# Assignment 2\n",
    "def fun_test_arg(a,b=None):\n",
    "    if b is None:\n",
    "        b = {}\n",
    "    b[a] = a**2\n",
    "    return b\n",
    "\n",
    "print(fun_test_arg(2))\n",
    "print(fun_test_arg(3))  \n",
    "print(fun_test_arg(4))\n",
    "print(fun_test_arg(3, {1: 1}))\n"
   ]
  },
  {
   "cell_type": "code",
   "execution_count": 13,
   "id": "5a22f1b9",
   "metadata": {},
   "outputs": [
    {
     "name": "stdout",
     "output_type": "stream",
     "text": [
      "{'a': 1, 'c': 3}\n",
      "{'x': 10, 'z': 20}\n"
     ]
    }
   ],
   "source": [
    "# Assignment 3\n",
    "def var_kw_arg(**kwargs):\n",
    "    return {k: v for k,v in kwargs.items() if isinstance(v, int)}\n",
    "\n",
    "print(var_kw_arg(a=1, b='two', c=3, d=4.5))  \n",
    "print(var_kw_arg(x=10, y='yes', z=20))  \n",
    "\n",
    "\n",
    "\n",
    "#isinstance(object, classinfo) checks whether an object is an instance of a specific class (or a tuple of classes).    "
   ]
  },
  {
   "cell_type": "code",
   "execution_count": null,
   "id": "7f0d69a2",
   "metadata": {},
   "outputs": [
    {
     "name": "stdout",
     "output_type": "stream",
     "text": [
      "[1, 4, 9, 16]\n",
      "[2, 3, 4, 5]\n"
     ]
    }
   ],
   "source": [
    "# Assignment 4\n",
    "def apply_callback(callback, lst):\n",
    "    return [callback(x) for x in lst]\n",
    "\n",
    "print(apply_callback(lambda x: x**2, [1, 2, 3, 4]))\n",
    "print(apply_callback(lambda x: x+1, [1, 2, 3, 4]))\n",
    "\n",
    "\n",
    "\"\"\" \n",
    "callbackfunction provides you flexibility to perform any operation on the elements of the list.\n",
    "def apply_callback(callback, numbers):\n",
    "    return [callback(n) for n in numbers]\n",
    "\n",
    "def square(x):\n",
    "    return x * x\n",
    "\n",
    "def cube(x):\n",
    "    return x * x * x\n",
    "\n",
    "print(apply_callback(square, [1, 2, 3]))  # [1, 4, 9]\n",
    "print(apply_callback(cube, [1, 2, 3]))    # [1, 8, 27]\n",
    "\"\"\""
   ]
  },
  {
   "cell_type": "code",
   "execution_count": 18,
   "id": "43aa8666",
   "metadata": {},
   "outputs": [
    {
     "name": "stdout",
     "output_type": "stream",
     "text": [
      "4\n",
      "25\n",
      "36\n"
     ]
    }
   ],
   "source": [
    "# Assignment 5\n",
    "def outer_fun():\n",
    "    def inner_square(x):\n",
    "        return x**2\n",
    "    return inner_square\n",
    "    \n",
    "square = outer_fun()\n",
    "print(square(2))\n",
    "print(square(5))\n",
    "print(square(6))"
   ]
  },
  {
   "cell_type": "code",
   "execution_count": 23,
   "id": "142c6737",
   "metadata": {},
   "outputs": [
    {
     "name": "stdout",
     "output_type": "stream",
     "text": [
      "Function complex_calculation took 0.0023665428161621094 seconds to execute.\n",
      "333283335000\n"
     ]
    }
   ],
   "source": [
    "# Assignment 6\n",
    "# This imports Python’s built-in time module, which lets you measure time in seconds (e.g., using time.time()).\n",
    "import time\n",
    "\n",
    "def timer_decorator(func):\n",
    "    def wrapper(*args, **kwargs):\n",
    "        start_time = time.time()\n",
    "        result = func(*args, **kwargs)\n",
    "        end_time = time.time()\n",
    "        print(f\"Function {func.__name__} took {end_time - start_time} seconds to execute.\")\n",
    "        return result\n",
    "    return wrapper\n",
    "\n",
    "@timer_decorator\n",
    "# The @timer_decorator line applies the decorator to the complex_calculation function.\n",
    "def complex_calculation(n):\n",
    "    return sum(x**2 for x in range(n))\n",
    "\n",
    "# Test\n",
    "print(complex_calculation(10000))"
   ]
  },
  {
   "cell_type": "code",
   "execution_count": 3,
   "id": "e663cdc8",
   "metadata": {},
   "outputs": [
    {
     "name": "stdout",
     "output_type": "stream",
     "text": [
      "[4, 16, 36]\n",
      "[4, 5, 6, 7]\n"
     ]
    }
   ],
   "source": [
    "# Assignment 7\n",
    "def filter_and_map(filter_func, map_func, lst):\n",
    "    return [map_func(x) for x in lst if filter_func(x)]\n",
    "\n",
    "\n",
    "print(filter_and_map(lambda x: x%2 == 0, lambda x: x ** 2, [1,2,3,4,5,6]))\n",
    "print(filter_and_map(lambda x: x>2, lambda x: x + 1, [1,2,3,4,5,6]))\n",
    "\n",
    "    "
   ]
  },
  {
   "cell_type": "code",
   "execution_count": 10,
   "id": "3dcd8d2f",
   "metadata": {},
   "outputs": [
    {
     "name": "stdout",
     "output_type": "stream",
     "text": [
      "7\n",
      "11\n"
     ]
    }
   ],
   "source": [
    "# Assignment 8\n",
    "def function_composition(f,g):\n",
    "    return lambda x: f(g(x))\n",
    "\n",
    "\n",
    "f = lambda x: x+1\n",
    "g = lambda x: x*2\n",
    "h = function_composition(f,g)\n",
    "print(h(3)) \n",
    "print(h(5)) "
   ]
  },
  {
   "cell_type": "code",
   "execution_count": 11,
   "id": "853419d6",
   "metadata": {},
   "outputs": [
    {
     "name": "stdout",
     "output_type": "stream",
     "text": [
      "6\n",
      "10\n"
     ]
    }
   ],
   "source": [
    "# Assignment 9\n",
    "from functools import partial\n",
    "\n",
    "multiply_by_2 = partial(lambda x, y: x * y, 2)\n",
    "\n",
    "# Test\n",
    "print(multiply_by_2(3))  # 6\n",
    "print(multiply_by_2(5))  # 10"
   ]
  },
  {
   "cell_type": "code",
   "execution_count": 13,
   "id": "a3710357",
   "metadata": {},
   "outputs": [
    {
     "name": "stdout",
     "output_type": "stream",
     "text": [
      "3.0\n",
      "None\n"
     ]
    }
   ],
   "source": [
    "# Assignment 10\n",
    "def average(lst):\n",
    "    try:\n",
    "        return sum(lst) / len(lst)\n",
    "    except ZeroDivisionError:\n",
    "        return None\n",
    "    \n",
    "\n",
    "print(average([1,2,3,4,5]))\n",
    "print(average([]))"
   ]
  },
  {
   "cell_type": "code",
   "execution_count": null,
   "id": "1f3b9ad7",
   "metadata": {},
   "outputs": [
    {
     "name": "stdout",
     "output_type": "stream",
     "text": [
      "0\n",
      "1\n",
      "1\n",
      "2\n",
      "3\n",
      "5\n",
      "8\n",
      "13\n",
      "21\n",
      "34\n"
     ]
    }
   ],
   "source": [
    "# Assignment 11\n",
    "def fibonacci_generator():\n",
    "    a, b = 0, 1\n",
    "    while True:  #This is an infinite loop. It will keep running forever unless you stop it manually.\n",
    "        yield a  #It \"returns\" the current value of a without stopping the function, allowing it to continue later.\n",
    "        a, b = b, a + b\n",
    "\n",
    "# Test\n",
    "fib_gen = fibonacci_generator()\n",
    "for _ in range(10): # i is used to access the current loop index. but if we don't need index we use \" _ \"\n",
    "    print(next(fib_gen))"
   ]
  },
  {
   "cell_type": "code",
   "execution_count": 11,
   "id": "a4aacf0b",
   "metadata": {},
   "outputs": [
    {
     "name": "stdout",
     "output_type": "stream",
     "text": [
      "24\n",
      "30\n"
     ]
    }
   ],
   "source": [
    "# Assignment 12\n",
    "\"\"\"A curried function is a function that takes multiple arguments one at a time, instead of all at once.\n",
    "It transforms a function of multiple arguments into a sequence of functions, each with a single argument.\n",
    "\n",
    "instead of writing a function like this\n",
    "def multiply(x, y, z):\n",
    "    return x * y * z\n",
    "\"\"\"\n",
    "\n",
    "# curried function writes a function like this\n",
    "\n",
    "\n",
    "def currying_func(x):\n",
    "    def inner1(y):\n",
    "        def inner2(z):\n",
    "            return x*y*z\n",
    "        return inner2\n",
    "    return inner1\n",
    "\n",
    "print(currying_func(2)(3)(4))\n",
    "print(currying_func(1)(5)(6))"
   ]
  },
  {
   "cell_type": "code",
   "execution_count": 15,
   "id": "558ba7ed",
   "metadata": {},
   "outputs": [],
   "source": [
    "# Assignment 13\n",
    "def write_to_file(lst, filename):\n",
    "    try:\n",
    "        with open(filename, 'w') as f:\n",
    "            for num in lst:\n",
    "                f.write(f\"{num}\\n\")\n",
    "    except IOError as e:\n",
    "        print(f\"an error occured {e}\")\n",
    "\n",
    "write_to_file([1,2,3,4,5,6], 'output.txt')                "
   ]
  },
  {
   "cell_type": "code",
   "execution_count": 16,
   "id": "ad4fce0a",
   "metadata": {},
   "outputs": [
    {
     "name": "stdout",
     "output_type": "stream",
     "text": [
      "([1, 2, 3, 22], ['two', 'khushi'], [4.0, 3.2])\n"
     ]
    }
   ],
   "source": [
    "# Assignment 14\n",
    "def diff_data_types(lst):\n",
    "    ints, strs, floats = [], [], []\n",
    "    for item in lst:\n",
    "        if isinstance(item, int):\n",
    "            ints.append(item)\n",
    "        elif isinstance(item, str):\n",
    "            strs.append(item)\n",
    "        elif isinstance(item, float):\n",
    "            floats.append(item)\n",
    "\n",
    "    return ints, strs, floats\n",
    "\n",
    "print(diff_data_types([1,2,3,4.0,\"two\",3.2,\"khushi\",22]))                "
   ]
  },
  {
   "cell_type": "code",
   "execution_count": 18,
   "id": "5e49cb82",
   "metadata": {},
   "outputs": [
    {
     "name": "stdout",
     "output_type": "stream",
     "text": [
      "1\n",
      "2\n",
      "3\n"
     ]
    }
   ],
   "source": [
    "# Assignment 15\n",
    "def call_counter(counter={'count': 0}):\n",
    "    counter['count'] += 1\n",
    "    return counter['count']\n",
    "\n",
    "# Test\n",
    "print(call_counter()) \n",
    "print(call_counter())  \n",
    "print(call_counter()) "
   ]
  },
  {
   "cell_type": "code",
   "execution_count": null,
   "id": "90e8aaee",
   "metadata": {},
   "outputs": [],
   "source": []
  }
 ],
 "metadata": {
  "kernelspec": {
   "display_name": "Python 3",
   "language": "python",
   "name": "python3"
  },
  "language_info": {
   "codemirror_mode": {
    "name": "ipython",
    "version": 3
   },
   "file_extension": ".py",
   "mimetype": "text/x-python",
   "name": "python",
   "nbconvert_exporter": "python",
   "pygments_lexer": "ipython3",
   "version": "3.10.5"
  }
 },
 "nbformat": 4,
 "nbformat_minor": 5
}
