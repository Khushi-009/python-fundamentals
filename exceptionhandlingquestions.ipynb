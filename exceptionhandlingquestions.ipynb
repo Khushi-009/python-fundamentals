{
 "cells": [
  {
   "cell_type": "markdown",
   "id": "587f003c",
   "metadata": {},
   "source": [
    "# Module: Exception Handling Assignments\n",
    "## Lesson: Exception Handling with try, except, and finally\n",
    "### Assignment 1: Handling Division by Zero\n",
    "\n",
    "Write a function that takes two integers as input and returns their division. Use try, except, and finally blocks to handle division by zero and print an appropriate message.\n",
    "\n",
    "### Assignment 2: File Reading with Exception Handling\n",
    "\n",
    "Write a function that reads the contents of a file named `data.txt`. Use try, except, and finally blocks to handle file not found errors and ensure the file is properly closed.\n",
    "\n",
    "### Assignment 3: Handling Multiple Exceptions\n",
    "\n",
    "Write a function that takes a list of integers and returns their sum. Use try, except, and finally blocks to handle TypeError if a non-integer value is encountered and print an appropriate message.\n",
    "\n",
    "### Assignment 4: Exception Handling in User Input\n",
    "\n",
    "Write a function that prompts the user to enter an integer. Use try, except, and finally blocks to handle ValueError if the user enters a non-integer value and print an appropriate message.\n",
    "\n",
    "### Assignment 5: Exception Handling in Dictionary Access\n",
    "\n",
    "Write a function that takes a dictionary and a key as input and returns the value associated with the key. Use try, except, and finally blocks to handle KeyError if the key is not found in the dictionary and print an appropriate message.\n",
    "\n",
    "### Assignment 6: Nested Exception Handling\n",
    "\n",
    "Write a function that performs nested exception handling. It should first attempt to convert a string to an integer, and then attempt to divide by that integer. Use nested try, except, and finally blocks to handle ValueError and ZeroDivisionError and print appropriate messages.\n",
    "\n",
    "### Assignment 7: Exception Handling in List Operations\n",
    "\n",
    "Write a function that takes a list and an index as input and returns the element at the given index. Use try, except, and finally blocks to handle IndexError if the index is out of range and print an appropriate message.\n",
    "\n",
    "### Assignment 8: Exception Handling in Network Operations\n",
    "\n",
    "Write a function that attempts to open a URL and read its contents. Use try, except, and finally blocks to handle network-related errors and print an appropriate message.\n",
    "\n",
    "### Assignment 9: Exception Handling in JSON Parsing\n",
    "\n",
    "Write a function that attempts to parse a JSON string. Use try, except, and finally blocks to handle JSONDecodeError if the string is not a valid JSON and print an appropriate message.\n",
    "\n",
    "### Assignment 10: Custom Exception Handling\n",
    "\n",
    "Define a custom exception named `NegativeNumberError`. Write a function that raises this exception if a negative number is encountered in a list. Use try, except, and finally blocks to handle the custom exception and print an appropriate message.\n",
    "\n",
    "### Assignment 11: Exception Handling in Function Calls\n",
    "\n",
    "Write a function that calls another function which may raise an exception. Use try, except, and finally blocks to handle the exception and print an appropriate message.\n",
    "\n",
    "### Assignment 12: Exception Handling in Class Methods\n",
    "\n",
    "Define a class with a method that performs a division operation. Use try, except, and finally blocks within the method to handle division by zero and print an appropriate message.\n",
    "\n",
    "### Assignment 13: Exception Handling in Data Conversion\n",
    "\n",
    "Write a function that takes a list of strings and converts them to integers. Use try, except, and finally blocks to handle ValueError if a string cannot be converted and print an appropriate message.\n",
    "\n",
    "### Assignment 14: Exception Handling in List Comprehensions\n",
    "\n",
    "Write a function that uses a list comprehension to convert a list of strings to integers. Use try, except, and finally blocks within the list comprehension to handle ValueError and print an appropriate message.\n",
    "\n",
    "### Assignment 15: Exception Handling in File Writing\n",
    "\n",
    "Write a function that attempts to write a list of strings to a file. Use try, except, and finally blocks to handle IOError and ensure the file is properly closed."
   ]
  },
  {
   "cell_type": "code",
   "execution_count": 6,
   "id": "ef49ca37",
   "metadata": {},
   "outputs": [
    {
     "name": "stdout",
     "output_type": "stream",
     "text": [
      "Division operation completed\n",
      "2.5\n",
      " Error : division by zero\n",
      "Division operation completed\n",
      "None\n"
     ]
    }
   ],
   "source": [
    "# Assignment 1 \n",
    "def divide(a,b):\n",
    "    try:\n",
    "        result = a/b\n",
    "    except ZeroDivisionError as e:\n",
    "        print(f\" Error : {e}\")\n",
    "        result = None\n",
    "    finally:\n",
    "        print(\"Division operation completed\")\n",
    "    return result\n",
    "\n",
    "print(divide(5,2))\n",
    "print(divide(5,0))\n"
   ]
  },
  {
   "cell_type": "code",
   "execution_count": 7,
   "id": "475504cb",
   "metadata": {},
   "outputs": [
    {
     "name": "stdout",
     "output_type": "stream",
     "text": [
      "File not found error : [Errno 2] No such file or directory: 'data.txt'\n"
     ]
    }
   ],
   "source": [
    "# Assignment 2\n",
    "def File_not_found(file_path):\n",
    "    try:\n",
    "        file = open(file_path,'r')\n",
    "        content = file.read()\n",
    "    except FileNotFoundError as e:\n",
    "        print(f\"File not found error : {e}\")\n",
    "    finally:\n",
    "        try:\n",
    "            file.close()\n",
    "        except NameError:\n",
    "            pass\n",
    "\n",
    "File_not_found('data.txt')"
   ]
  },
  {
   "cell_type": "code",
   "execution_count": 10,
   "id": "944f2efe",
   "metadata": {},
   "outputs": [
    {
     "name": "stdout",
     "output_type": "stream",
     "text": [
      "execution completed\n",
      "15\n",
      "type error : unsupported operand type(s) for +=: 'int' and 'str'\n",
      "execution completed\n",
      "None\n"
     ]
    }
   ],
   "source": [
    "# Assignment 3\n",
    "def return_sum(lst):\n",
    "    total = 0\n",
    "    try:\n",
    "        for item in lst:\n",
    "            total += item\n",
    "    except TypeError as e:\n",
    "        print(f\"type error : {e}\")\n",
    "        total = None\n",
    "    finally:\n",
    "        print(\"execution completed\")\n",
    "    return total\n",
    "\n",
    "print(return_sum([1,2,3,4,5]))\n",
    "print(return_sum([1,2,'hii']))\n",
    "\n"
   ]
  },
  {
   "cell_type": "code",
   "execution_count": 14,
   "id": "defef756",
   "metadata": {},
   "outputs": [
    {
     "name": "stdout",
     "output_type": "stream",
     "text": [
      "code executed\n",
      "12\n"
     ]
    }
   ],
   "source": [
    "# Assignment 4\n",
    "def user_input():\n",
    "    try:\n",
    "        num1 = int(input(\"enter an integer : \"))\n",
    "    except ValueError as e:\n",
    "        print(f\"non integer input given \")\n",
    "        num1 = None\n",
    "    finally:\n",
    "        print(\"code executed\")\n",
    "    return num1\n",
    "\n",
    "print(user_input())\n"
   ]
  },
  {
   "cell_type": "code",
   "execution_count": 15,
   "id": "a94eadcf",
   "metadata": {},
   "outputs": [
    {
     "name": "stdout",
     "output_type": "stream",
     "text": [
      "code executed\n",
      "2\n",
      "key not found error\n",
      "code executed\n",
      "None\n"
     ]
    }
   ],
   "source": [
    "# Assignment 5\n",
    "def dictionary(d, key):\n",
    "    try:\n",
    "        value = d[key]\n",
    "    except KeyError as e:\n",
    "        print(\"key not found error\")\n",
    "        value = None\n",
    "    finally:\n",
    "        print(\"code executed\")\n",
    "    return value\n",
    "\n",
    "d = {'a': 1, 'b': 2, 'c': 3}\n",
    "print(dictionary(d, 'b'))  \n",
    "print(dictionary(d, 'x'))  "
   ]
  },
  {
   "cell_type": "code",
   "execution_count": 16,
   "id": "d6a001d5",
   "metadata": {},
   "outputs": [
    {
     "name": "stdout",
     "output_type": "stream",
     "text": [
      "conversion attempt complete\n",
      "cannot divide by zero \n",
      "division successful\n",
      "execution completed\n",
      "None\n",
      "conversion cannot be possible\n",
      "conversion attempt complete\n",
      "execution completed\n",
      "None\n",
      "conversion attempt complete\n",
      "division successful\n",
      "execution completed\n",
      "5.0\n"
     ]
    }
   ],
   "source": [
    "# Assignment 6\n",
    "def nested_exception_handling(s):\n",
    "    try:\n",
    "        try:\n",
    "            num = int(s)\n",
    "        except ValueError:\n",
    "            print(\"conversion cannot be possible\")\n",
    "            num = None\n",
    "        finally:\n",
    "            print('conversion attempt complete')\n",
    "        if num is not None:\n",
    "            try:\n",
    "                result = 10 / num\n",
    "            except ZeroDivisionError:\n",
    "                print(\"cannot divide by zero \")\n",
    "                result = None\n",
    "            finally:\n",
    "                print(\"division successful\")\n",
    "            return result\n",
    "    finally:\n",
    "        print(\"execution completed\")\n",
    "\n",
    "print(nested_exception_handling('0'))  \n",
    "print(nested_exception_handling('a'))  \n",
    "print(nested_exception_handling('2'))  "
   ]
  },
  {
   "cell_type": "code",
   "execution_count": 21,
   "id": "dae1072e",
   "metadata": {},
   "outputs": [
    {
     "name": "stdout",
     "output_type": "stream",
     "text": [
      "execution completed\n",
      "26\n",
      "index not found \n",
      "execution completed\n",
      "None\n"
     ]
    }
   ],
   "source": [
    "# Assignment 7\n",
    "def handling_list(lst, index):\n",
    "    try:\n",
    "        result = lst[index]\n",
    "    except IndexError:\n",
    "        print(\"index not found \")\n",
    "        result = None\n",
    "    finally:\n",
    "        print(\"execution completed\")\n",
    "    return result\n",
    "\n",
    "\n",
    "print(handling_list([1,4,34,26,45,6,54,6,], 3))\n",
    "print(handling_list([1,4,34,26,45,6,54,6,], 10))"
   ]
  },
  {
   "cell_type": "code",
   "execution_count": 22,
   "id": "364c0946",
   "metadata": {},
   "outputs": [
    {
     "name": "stdout",
     "output_type": "stream",
     "text": [
      "Execution complete.\n",
      "{\n",
      "  \"userId\": 1,\n",
      "  \"id\": 1,\n",
      "  \"title\": \"sunt aut facere repellat provident occaecati excepturi optio reprehenderit\",\n",
      "  \"body\": \"quia et suscipit\\nsuscipit recusandae consequuntur expedita et cum\\nreprehenderit molestiae ut ut quas totam\\nnostrum rerum est autem sunt rem eveniet architecto\"\n",
      "}\n",
      "Network error: HTTPSConnectionPool(host='nonexistent.url', port=443): Max retries exceeded with url: / (Caused by NameResolutionError(\"<urllib3.connection.HTTPSConnection object at 0x000001AAC91222F0>: Failed to resolve 'nonexistent.url' ([Errno 11001] getaddrinfo failed)\"))\n",
      "Execution complete.\n",
      "None\n"
     ]
    }
   ],
   "source": [
    "# Assignment 8\n",
    "import requests\n",
    "\n",
    "def read_url(url):\n",
    "    try:\n",
    "        response = requests.get(url)\n",
    "        response.raise_for_status()\n",
    "        return response.text\n",
    "    except requests.RequestException as e:\n",
    "        print(f\"Network error: {e}\")\n",
    "        return None\n",
    "    finally:\n",
    "        print(\"Execution complete.\")\n",
    "\n",
    "\n",
    "print(read_url('https://jsonplaceholder.typicode.com/posts/1'))\n",
    "print(read_url('https://nonexistent.url'))"
   ]
  },
  {
   "cell_type": "code",
   "execution_count": 25,
   "id": "68190f5e",
   "metadata": {},
   "outputs": [
    {
     "name": "stdout",
     "output_type": "stream",
     "text": [
      "execution completed\n",
      "{'name': 'John', 'age': 30}\n",
      "JSON error\n",
      "execution completed\n",
      "None\n"
     ]
    }
   ],
   "source": [
    "# Assignment 9\n",
    "import json\n",
    "\n",
    "def json_parse(json_string):\n",
    "    try:\n",
    "        data = json.loads(json_string)\n",
    "        return data\n",
    "    except json.JSONDecodeError:\n",
    "        print(\"JSON error\")\n",
    "        data = None\n",
    "    finally:\n",
    "        print(\"execution completed\")\n",
    "\n",
    "\n",
    "print(json_parse('{\"name\": \"John\", \"age\": 30}'))  \n",
    "print(json_parse('Invalid JSON')) "
   ]
  },
  {
   "cell_type": "code",
   "execution_count": 26,
   "id": "fca47c37",
   "metadata": {},
   "outputs": [
    {
     "name": "stdout",
     "output_type": "stream",
     "text": [
      "error : negative number found : -2\n",
      "execution completed\n",
      "execution completed\n"
     ]
    }
   ],
   "source": [
    "# Assignment 10\n",
    "class NegativeNumberError(Exception):\n",
    "    pass\n",
    "\n",
    "def raise_excep(lst):\n",
    "    try:\n",
    "        for item in lst:\n",
    "            if item < 0:\n",
    "                raise NegativeNumberError(f\"negative number found : {item}\")\n",
    "    except NegativeNumberError as e:\n",
    "        print(f\"error : {e}\")\n",
    "    finally:\n",
    "        print(\"execution completed\")\n",
    "\n",
    "raise_excep([1, -2, 3, 4]) \n",
    "raise_excep([1, 2, 3, 4]) "
   ]
  },
  {
   "cell_type": "code",
   "execution_count": 28,
   "id": "7fd73bcb",
   "metadata": {},
   "outputs": [
    {
     "name": "stdout",
     "output_type": "stream",
     "text": [
      "Error: An error occurred in risky_function.\n",
      "Execution complete.\n"
     ]
    }
   ],
   "source": [
    "# Assignment 11\n",
    "def risky_function():\n",
    "    raise ValueError(\"An error occurred in risky_function.\")\n",
    "\n",
    "def safe_function():\n",
    "    try:\n",
    "        risky_function()\n",
    "    except ValueError as e:\n",
    "        print(f\"Error: {e}\")\n",
    "    finally:\n",
    "        print(\"Execution complete.\")\n",
    "\n",
    "safe_function()"
   ]
  },
  {
   "cell_type": "code",
   "execution_count": 31,
   "id": "060a39e7",
   "metadata": {},
   "outputs": [
    {
     "name": "stdout",
     "output_type": "stream",
     "text": [
      "Execution completed\n",
      "2.5\n",
      "cannot divide by zero\n",
      "Execution completed\n",
      "None\n"
     ]
    }
   ],
   "source": [
    "# Assignment 12\n",
    "class operation:\n",
    "    def divide(self, a, b):\n",
    "        try:\n",
    "            result = a/b\n",
    "        except ZeroDivisionError:\n",
    "            print(\"cannot divide by zero\")\n",
    "            result = None\n",
    "        finally:\n",
    "            print(\"Execution completed\")\n",
    "        return result\n",
    "    \n",
    "op = operation()\n",
    "print(op.divide(5,2))\n",
    "print(op.divide(5,0))"
   ]
  },
  {
   "cell_type": "code",
   "execution_count": 32,
   "id": "8a0b0977",
   "metadata": {},
   "outputs": [
    {
     "name": "stdout",
     "output_type": "stream",
     "text": [
      "string cannot be converted\n",
      "execution completed\n",
      "None\n",
      "execution completed\n",
      "4\n"
     ]
    }
   ],
   "source": [
    "# Assignment 13\n",
    "def data_conversion(lst):\n",
    "    try:\n",
    "        for item in lst:\n",
    "            result = int(item)\n",
    "    except ValueError:\n",
    "        print(\"string cannot be converted\")\n",
    "        result = None\n",
    "    finally:\n",
    "        print(\"execution completed\")\n",
    "    return result\n",
    "\n",
    "print(data_conversion(['1', '2', 'three', '4'])) \n",
    "print(data_conversion(['1', '2', '3', '4']))  \n",
    "    \n"
   ]
  },
  {
   "cell_type": "code",
   "execution_count": 33,
   "id": "293f2208",
   "metadata": {},
   "outputs": [
    {
     "name": "stdout",
     "output_type": "stream",
     "text": [
      "cannot be converted\n",
      "code executed\n",
      "None\n",
      "code executed\n",
      "[1, 2, 3, 4]\n"
     ]
    }
   ],
   "source": [
    "# Assignment 14\n",
    "def list_comprehension(lst):\n",
    "    try:\n",
    "        result = [int(item) for item in lst]\n",
    "    except ValueError:\n",
    "        print(\"cannot be converted\")\n",
    "        result = None\n",
    "    finally:\n",
    "        print(\"code executed\")\n",
    "    return result\n",
    "\n",
    "print(list_comprehension(['1', '2', 'three', '4'])) \n",
    "print(list_comprehension(['1', '2', '3', '4'])) "
   ]
  },
  {
   "cell_type": "code",
   "execution_count": 37,
   "id": "71aa4e5f",
   "metadata": {},
   "outputs": [],
   "source": [
    "# Assignment 15\n",
    "def file_handling(strings, file_path):\n",
    "    try:\n",
    "        file = open(file_path,'w')\n",
    "        for string in strings:\n",
    "            file.write(string)\n",
    "    except IOError:\n",
    "        print(\"cannot be done \")\n",
    "    finally:\n",
    "        try:\n",
    "            file.close()\n",
    "        except NameError:\n",
    "            pass\n",
    "\n",
    "file_handling(['Hello', 'World'], 'output.txt')\n"
   ]
  },
  {
   "cell_type": "code",
   "execution_count": null,
   "id": "afec0534",
   "metadata": {},
   "outputs": [],
   "source": []
  }
 ],
 "metadata": {
  "kernelspec": {
   "display_name": "Python 3",
   "language": "python",
   "name": "python3"
  },
  "language_info": {
   "codemirror_mode": {
    "name": "ipython",
    "version": 3
   },
   "file_extension": ".py",
   "mimetype": "text/x-python",
   "name": "python",
   "nbconvert_exporter": "python",
   "pygments_lexer": "ipython3",
   "version": "3.10.5"
  }
 },
 "nbformat": 4,
 "nbformat_minor": 5
}
