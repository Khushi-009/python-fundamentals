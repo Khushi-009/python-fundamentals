{
 "cells": [
  {
   "cell_type": "markdown",
   "id": "53cc2353",
   "metadata": {},
   "source": [
    "# Module 3: Data Structures Assignments\n",
    "## Lesson 3.1: Lists\n",
    "### Assignment 1: Creating and Accessing Lists\n",
    "\n",
    "Create a list of the first 20 positive integers. Print the list.\n",
    "\n",
    "### Assignment 2: Accessing List Elements\n",
    "\n",
    "Print the first, middle, and last elements of the list created in Assignment 1.\n",
    "\n",
    "### Assignment 3: List Slicing\n",
    "\n",
    "Print the first five elements, the last five elements, and the elements from index 5 to 15 of the list created in Assignment 1.\n",
    "\n",
    "### Assignment 4: List Comprehensions\n",
    "\n",
    "Create a new list containing the squares of the first 10 positive integers using a list comprehension. Print the new list.\n",
    "\n",
    "### Assignment 5: Filtering Lists\n",
    "\n",
    "Create a new list containing only the even numbers from the list created in Assignment 1 using a list comprehension. Print the new list.\n",
    "\n",
    "### Assignment 6: List Methods\n",
    "\n",
    "Create a list of random numbers and sort it in ascending and descending order. Remove the duplicates from the list and print the modified list.\n",
    "\n",
    "### Assignment 7: Nested Lists\n",
    "\n",
    "Create a nested list representing a 3x3 matrix and print the matrix. Access and print the element at the second row and third column.\n",
    "\n",
    "### Assignment 8: List of Dictionaries\n",
    "\n",
    "Create a list of dictionaries where each dictionary represents a student with keys 'name' and 'score'. Sort the list of dictionaries by the 'score' in descending order and print the sorted list.\n",
    "\n",
    "### Assignment 9: Matrix Transposition\n",
    "\n",
    "Write a function that takes a 3x3 matrix (nested list) as input and returns its transpose. Print the original and transposed matrices.\n",
    "\n",
    "### Assignment 10: Flattening a Nested List\n",
    "\n",
    "Write a function that takes a nested list and flattens it into a single list. Print the original and flattened lists.\n",
    "\n",
    "### Assignment 11: List Manipulation\n",
    "\n",
    "Create a list of the first 10 positive integers. Remove the elements at indices 2, 4, and 6, and insert the element '99' at index 5. Print the modified list.\n",
    "\n",
    "### Assignment 12: List Zipping\n",
    "\n",
    "Create two lists of the same length. Use the `zip` function to combine these lists into a list of tuples and print the result.\n",
    "\n",
    "### Assignment 13: List Reversal\n",
    "\n",
    "Write a function that takes a list and returns a new list with the elements in reverse order. Print the original and reversed lists.\n",
    "\n",
    "### Assignment 14: List Rotation\n",
    "\n",
    "Write a function that rotates a list by n positions. Print the original and rotated lists.\n",
    "\n",
    "### Assignment 15: List Intersection\n",
    "\n",
    "Write a function that takes two lists and returns a new list containing only the elements that are present in both lists. Print the intersected list."
   ]
  },
  {
   "cell_type": "code",
   "execution_count": 5,
   "id": "96d52116",
   "metadata": {},
   "outputs": [
    {
     "name": "stdout",
     "output_type": "stream",
     "text": [
      "[1, 2, 3, 4, 5, 6, 7, 8, 9, 10, 11, 12, 13, 14, 15, 16, 17, 18, 19, 20]\n"
     ]
    }
   ],
   "source": [
    "# Assignment 1\n",
    "lst = list(range(1,21))\n",
    "print(lst)"
   ]
  },
  {
   "cell_type": "code",
   "execution_count": 6,
   "id": "8df28776",
   "metadata": {},
   "outputs": [
    {
     "name": "stdout",
     "output_type": "stream",
     "text": [
      "first element: 1\n",
      "middle element: 11\n",
      "last element: 20\n"
     ]
    }
   ],
   "source": [
    "# Assignment 2\n",
    "print(f\"first element: {lst[0]}\")\n",
    "print(f\"middle element: {lst[len(lst) // 2]}\")\n",
    "print(f\"last element: {lst[-1]}\")"
   ]
  },
  {
   "cell_type": "code",
   "execution_count": 7,
   "id": "4fe870a0",
   "metadata": {},
   "outputs": [
    {
     "name": "stdout",
     "output_type": "stream",
     "text": [
      "first five elements: [1, 2, 3, 4, 5]\n",
      "last five elements: [16, 17, 18, 19, 20]\n",
      "elements from index 5 to 15: [6, 7, 8, 9, 10, 11, 12, 13, 14, 15, 16]\n"
     ]
    }
   ],
   "source": [
    "# Assignment 3\n",
    "print(f\"first five elements: {lst[0:5]}\")\n",
    "print(f\"last five elements: {lst[-5:]}\")\n",
    "print(f\"elements from index 5 to 15: {lst[5:16]}\")"
   ]
  },
  {
   "cell_type": "code",
   "execution_count": 8,
   "id": "b0d0f049",
   "metadata": {},
   "outputs": [
    {
     "name": "stdout",
     "output_type": "stream",
     "text": [
      "[1, 4, 9, 16, 25, 36, 49, 64, 81, 100]\n"
     ]
    }
   ],
   "source": [
    "# Assignment 4\n",
    "lst2 = list(x**2 for x in range(1,11))\n",
    "print(lst2)"
   ]
  },
  {
   "cell_type": "code",
   "execution_count": 9,
   "id": "f79d60f0",
   "metadata": {},
   "outputs": [
    {
     "name": "stdout",
     "output_type": "stream",
     "text": [
      "[2, 4, 6, 8, 10, 12, 14, 16, 18, 20]\n"
     ]
    }
   ],
   "source": [
    "# Assignment 5\n",
    "lst3 = list(x for x in lst if x%2 == 0)\n",
    "print(lst3)"
   ]
  },
  {
   "cell_type": "code",
   "execution_count": 12,
   "id": "a4df7cd3",
   "metadata": {},
   "outputs": [
    {
     "name": "stdout",
     "output_type": "stream",
     "text": [
      "random numbers are: [7, 12, 5, 19, 9, 5, 20, 12, 15, 7, 9, 20, 15, 13, 19]\n",
      "sorted in ascending numbers are: [5, 5, 7, 7, 9, 9, 12, 12, 13, 15, 15, 19, 19, 20, 20]\n",
      "sorted in descending numbers are: [20, 20, 19, 19, 15, 15, 13, 12, 12, 9, 9, 7, 7, 5, 5]\n",
      "after removing duplicates numbers are: [5, 7, 9, 12, 13, 15, 19, 20]\n"
     ]
    }
   ],
   "source": [
    "# Assignment 6\n",
    "import random\n",
    "\n",
    "random_number = [random.randint(1,20) for _ in range(15)]\n",
    "print(f\"random numbers are: {random_number}\")\n",
    "\n",
    "asc_sort = sorted(random_number)\n",
    "print(f\"sorted in ascending numbers are: {asc_sort}\")\n",
    "\n",
    "desc_sort = sorted(random_number, reverse=True)\n",
    "print(f\"sorted in descending numbers are: {desc_sort}\")\n",
    "\n",
    "rem_duplicates = list(set(random_number))\n",
    "print(f\"after removing duplicates numbers are: {rem_duplicates}\")"
   ]
  },
  {
   "cell_type": "code",
   "execution_count": null,
   "id": "d9be3b37",
   "metadata": {},
   "outputs": [
    {
     "name": "stdout",
     "output_type": "stream",
     "text": [
      "[[1, 2, 3], [4, 5, 6], [7, 8, 9]]\n",
      "Element at second row and third column: 6\n"
     ]
    }
   ],
   "source": [
    "# Assignment 7\n",
    "matrix = [\n",
    "        [1,2,3],\n",
    "        [4,5,6],\n",
    "        [7,8,9]\n",
    "        ]\n",
    "print(matrix)\n",
    "\n",
    "print(f\"Element at second row and third column: {matrix[1][2]}\")    \n"
   ]
  },
  {
   "cell_type": "code",
   "execution_count": 8,
   "id": "afea15d3",
   "metadata": {},
   "outputs": [
    {
     "name": "stdout",
     "output_type": "stream",
     "text": [
      "Sorted students by score in descending order:\n",
      "{'name': 'Charlie', 'score': 95}\n",
      "{'name': 'Alice', 'score': 88}\n",
      "{'name': 'Eve', 'score': 78}\n",
      "{'name': 'Bob', 'score': 72}\n",
      "{'name': 'David', 'score': 65}\n"
     ]
    }
   ],
   "source": [
    "# Assignment 8\n",
    "students = [\n",
    "    {'name': 'Alice', 'score': 88},\n",
    "    {'name': 'Bob', 'score': 72},\n",
    "    {'name': 'Charlie', 'score': 95},\n",
    "    {'name': 'David', 'score': 65},\n",
    "    {'name': 'Eve', 'score': 78}\n",
    "]\n",
    "\n",
    "sorted_students = sorted(students, key=lambda x: x['score'], reverse=True)\n",
    "print(\"Sorted students by score in descending order:\")\n",
    "for student in sorted_students:\n",
    "    print(student)"
   ]
  },
  {
   "cell_type": "code",
   "execution_count": 11,
   "id": "efe6513c",
   "metadata": {},
   "outputs": [
    {
     "name": "stdout",
     "output_type": "stream",
     "text": [
      "Original matrix:\n",
      "[1, 2, 3]\n",
      "[4, 5, 6]\n",
      "[7, 8, 9]\n",
      "Transposed matrix:\n",
      "[1, 4, 7]\n",
      "[2, 5, 8]\n",
      "[3, 6, 9]\n"
     ]
    }
   ],
   "source": [
    "# Assignment 9\n",
    "def transpose_matrix(matrix):\n",
    "    transposed = [[matrix[j][i] for j in range(len(matrix))] for i in range(len(matrix[0]))]\n",
    "    return transposed\n",
    "\n",
    "matrix = [\n",
    "    [1, 2, 3],\n",
    "    [4, 5, 6],\n",
    "    [7, 8, 9]\n",
    "]\n",
    "transposed = transpose_matrix(matrix)\n",
    "print(\"Original matrix:\")\n",
    "for row in matrix:\n",
    "    print(row)\n",
    "print(\"Transposed matrix:\")\n",
    "for row in transposed:\n",
    "    print(row)"
   ]
  },
  {
   "cell_type": "code",
   "execution_count": 14,
   "id": "ebc0a19c",
   "metadata": {},
   "outputs": [
    {
     "name": "stdout",
     "output_type": "stream",
     "text": [
      "Original nested list:\n",
      "[[1, 2, 3], [4, 5, 6], [7, 8, 9]]\n",
      "Flattened list:\n",
      "[1, 2, 3, 4, 5, 6, 7, 8, 9]\n"
     ]
    }
   ],
   "source": [
    "def flatten_list(nested_list):\n",
    "    flat_list = [item for sublist in nested_list for item in sublist]\n",
    "    return flat_list\n",
    "\n",
    "nested_list = [\n",
    "    [1, 2, 3],\n",
    "    [4, 5, 6],\n",
    "    [7, 8, 9]\n",
    "]\n",
    "flattened = flatten_list(nested_list)\n",
    "print(\"Original nested list:\")\n",
    "print(nested_list)\n",
    "print(\"Flattened list:\")\n",
    "print(flattened)"
   ]
  },
  {
   "cell_type": "code",
   "execution_count": 27,
   "id": "52cee83d",
   "metadata": {},
   "outputs": [
    {
     "name": "stdout",
     "output_type": "stream",
     "text": [
      "original list: [1, 2, 3, 4, 5, 6, 7, 8, 9, 10]\n",
      "[1, 2, 4, 6, 8, 9, 10]\n",
      "modified list: [1, 2, 4, 6, 8, 99, 9, 10]\n"
     ]
    }
   ],
   "source": [
    "# Assignment 11\n",
    "lst = list(range(1,11))\n",
    "print(\"original list:\", lst)\n",
    "\n",
    "del lst[6]\n",
    "del lst[4]\n",
    "del lst[2]\n",
    "print(lst)\n",
    "lst.insert(5,99)\n",
    "print(f\"modified list: {lst}\")"
   ]
  },
  {
   "cell_type": "code",
   "execution_count": 32,
   "id": "055a3a63",
   "metadata": {},
   "outputs": [
    {
     "name": "stdout",
     "output_type": "stream",
     "text": [
      "zipped list:  [(1, 11), (2, 12), (3, 13), (4, 14), (5, 15), (6, 16), (7, 17), (8, 18), (9, 19), (10, 20)]\n"
     ]
    }
   ],
   "source": [
    "# Assignment 12\n",
    "lst1 = list(range(1,11))\n",
    "lst2 = list(range(11,21))\n",
    "zipped = list(zip(lst1,lst2))\n",
    "print(\"zipped list: \", zipped)"
   ]
  },
  {
   "cell_type": "code",
   "execution_count": null,
   "id": "3eed5d5b",
   "metadata": {},
   "outputs": [],
   "source": []
  },
  {
   "cell_type": "code",
   "execution_count": 33,
   "id": "2d824128",
   "metadata": {},
   "outputs": [
    {
     "name": "stdout",
     "output_type": "stream",
     "text": [
      "original list: [1, 2, 3, 4, 5, 6]\n",
      "reversed list: [6, 5, 4, 3, 2, 1]\n"
     ]
    }
   ],
   "source": [
    "# Assignment 13\n",
    "def reverse_fun(orig_lst):\n",
    "    reverse = orig_lst[::-1]\n",
    "    return reverse\n",
    "\n",
    "\n",
    "orig_lst = [1,2,3,4,5,6] \n",
    "print(\"original list:\", orig_lst)\n",
    "print(\"reversed list:\", reverse_fun(orig_lst))\n"
   ]
  },
  {
   "cell_type": "code",
   "execution_count": 34,
   "id": "812f13d7",
   "metadata": {},
   "outputs": [
    {
     "name": "stdout",
     "output_type": "stream",
     "text": [
      "Original list: [1, 2, 3, 4, 5]\n",
      "Rotated list: [3, 4, 5, 1, 2]\n"
     ]
    }
   ],
   "source": [
    "def rotate_list(lst, n):\n",
    "    return lst[n:] + lst[:n]\n",
    "\n",
    "original_list = [1, 2, 3, 4, 5]\n",
    "rotated_list = rotate_list(original_list, 2)\n",
    "print(f\"Original list: {original_list}\")\n",
    "print(f\"Rotated list: {rotated_list}\")"
   ]
  },
  {
   "cell_type": "code",
   "execution_count": 36,
   "id": "2b3190c8",
   "metadata": {},
   "outputs": [
    {
     "name": "stdout",
     "output_type": "stream",
     "text": [
      "list 1:  [1, 2, 4, 3, 5, 6]\n",
      "list 2:  [3, 7, 9, 0, 2, 5, 1]\n",
      "intersection list:  [1, 2, 3, 5]\n"
     ]
    }
   ],
   "source": [
    "# Assignment 15\n",
    "def intersection_lst(lst1,lst2):\n",
    "    new_lst = [x for x in lst1 if x in lst2]\n",
    "    return new_lst\n",
    "\n",
    "\n",
    "lst1 = [1,2,4,3,5,6]\n",
    "lst2 = [3,7,9,0,2,5,1]\n",
    "\n",
    "print(\"list 1: \", lst1)\n",
    "print(\"list 2: \", lst2)\n",
    "print(\"intersection list: \", intersection_lst(lst1,lst2))\n",
    "\n"
   ]
  },
  {
   "cell_type": "code",
   "execution_count": null,
   "id": "c2e00712",
   "metadata": {},
   "outputs": [],
   "source": []
  }
 ],
 "metadata": {
  "kernelspec": {
   "display_name": "Python 3",
   "language": "python",
   "name": "python3"
  },
  "language_info": {
   "codemirror_mode": {
    "name": "ipython",
    "version": 3
   },
   "file_extension": ".py",
   "mimetype": "text/x-python",
   "name": "python",
   "nbconvert_exporter": "python",
   "pygments_lexer": "ipython3",
   "version": "3.10.5"
  }
 },
 "nbformat": 4,
 "nbformat_minor": 5
}
