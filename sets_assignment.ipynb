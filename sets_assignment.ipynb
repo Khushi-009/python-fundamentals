{
 "cells": [
  {
   "cell_type": "markdown",
   "id": "505316da",
   "metadata": {},
   "source": [
    "# Module 3: Data Structures Assignments\n",
    "## Lesson 3.3: Sets\n",
    "### Assignment 1: Creating and Accessing Sets\n",
    "\n",
    "Create a set with the first 10 positive integers. Print the set.\n",
    "\n",
    "### Assignment 2: Adding and Removing Elements\n",
    "\n",
    "Add the number 11 to the set created in Assignment 1. Then remove the number 1 from the set. Print the modified set.\n",
    "\n",
    "### Assignment 3: Set Operations\n",
    "\n",
    "Create two sets: one with the first 5 positive integers and another with the first 5 even integers. Perform and print the results of union, intersection, difference, and symmetric difference operations on these sets.\n",
    "\n",
    "### Assignment 4: Set Comprehensions\n",
    "\n",
    "Create a new set containing the squares of the first 10 positive integers using a set comprehension. Print the new set.\n",
    "\n",
    "### Assignment 5: Filtering Sets\n",
    "\n",
    "Create a new set containing only the even numbers from the set created in Assignment 1 using a set comprehension. Print the new set.\n",
    "\n",
    "### Assignment 6: Set Methods\n",
    "\n",
    "Create a set with duplicate elements and remove the duplicates using set methods. Print the modified set.\n",
    "\n",
    "### Assignment 7: Subsets and Supersets\n",
    "\n",
    "Create two sets: one with the first 5 positive integers and another with the first 3 positive integers. Check if the second set is a subset of the first set and if the first set is a superset of the second set. Print the results.\n",
    "\n",
    "### Assignment 8: Frozenset\n",
    "\n",
    "Create a frozenset with the first 5 positive integers. Print the frozenset.\n",
    "\n",
    "### Assignment 9: Set and List Conversion\n",
    "\n",
    "Create a set with the first 5 positive integers. Convert it to a list, append the number 6, and convert it back to a set. Print the resulting set.\n",
    "\n",
    "### Assignment 10: Set and Dictionary\n",
    "\n",
    "Create a dictionary with set keys and integer values. Print the dictionary.\n",
    "\n",
    "### Assignment 11: Iterating Over Sets\n",
    "\n",
    "Create a set and iterate over the elements, printing each element.\n",
    "\n",
    "### Assignment 12: Removing Elements from Sets\n",
    "\n",
    "Create a set and remove elements from it until it is empty. Print the set after each removal.\n",
    "\n",
    "### Assignment 13: Set Symmetric Difference Update\n",
    "\n",
    "Create two sets and update the first set with the symmetric difference of the two sets. Print the modified first set.\n",
    "\n",
    "### Assignment 14: Set Membership Testing\n",
    "\n",
    "Create a set and test if certain elements are present in the set. Print the results.\n",
    "\n",
    "### Assignment 15: Set of Tuples\n",
    "\n",
    "Create a set containing tuples, where each tuple contains two elements. Print the set."
   ]
  },
  {
   "cell_type": "code",
   "execution_count": 5,
   "id": "d740df7f",
   "metadata": {},
   "outputs": [
    {
     "name": "stdout",
     "output_type": "stream",
     "text": [
      "{1, 2, 3, 4, 5, 6, 7, 8, 9, 10}\n"
     ]
    }
   ],
   "source": [
    "# Assignment 1\n",
    "st = set(range(1,11))\n",
    "print(st)"
   ]
  },
  {
   "cell_type": "code",
   "execution_count": 9,
   "id": "ecee6c44",
   "metadata": {},
   "outputs": [
    {
     "name": "stdout",
     "output_type": "stream",
     "text": [
      "{2, 3, 4, 5, 6, 7, 8, 9, 10, 11}\n"
     ]
    }
   ],
   "source": [
    "# Assignment 2\n",
    "st.add(11)\n",
    "st.remove(1)\n",
    "print(st)"
   ]
  },
  {
   "cell_type": "code",
   "execution_count": 14,
   "id": "1112eb92",
   "metadata": {},
   "outputs": [
    {
     "name": "stdout",
     "output_type": "stream",
     "text": [
      "set 1 is:  {1, 2, 3, 4, 5}\n",
      "set 2 is:  {2, 4, 6, 8, 10}\n",
      "union of the two set:  {1, 2, 3, 4, 5, 6, 8, 10}\n",
      "intersection of the two set:  {2, 4}\n",
      "difference of the two set:  {1, 3, 5}\n",
      "symmetric difference of two set is:  {1, 3, 5, 6, 8, 10}\n"
     ]
    },
    {
     "data": {
      "text/plain": [
       "'\" \\nprint(f\"Union: {set1 | set2}\")\\nprint(f\"Intersection: {set1 & set2}\")\\nprint(f\"Difference (set1 - set2): {set1 - set2}\")\\nprint(f\"Symmetric Difference: {set1 ^ set2}\")\\n'"
      ]
     },
     "execution_count": 14,
     "metadata": {},
     "output_type": "execute_result"
    }
   ],
   "source": [
    "# Assignment 3\n",
    "st1 = set(range(1,6))\n",
    "st2 = set(range(2,11,2))\n",
    "set_union = st1.union(st2)\n",
    "set_intersection = st1.intersection(st2)\n",
    "set_difference = st1.difference(st2)\n",
    "set_sym_diff = st1.symmetric_difference(st2)\n",
    "\n",
    "print(\"set 1 is: \", st1)\n",
    "print(\"set 2 is: \", st2)\n",
    "print(\"union of the two set: \", set_union)\n",
    "print(\"intersection of the two set: \", set_intersection)\n",
    "print(\"difference of the two set: \", set_difference)\n",
    "print(\"symmetric difference of two set is: \", set_sym_diff)\n",
    "\n",
    "\"\"\"\" \n",
    "print(f\"Union: {set1 | set2}\")\n",
    "print(f\"Intersection: {set1 & set2}\")\n",
    "print(f\"Difference (set1 - set2): {set1 - set2}\")\n",
    "print(f\"Symmetric Difference: {set1 ^ set2}\")\n",
    "\"\"\""
   ]
  },
  {
   "cell_type": "code",
   "execution_count": 15,
   "id": "3f70faa5",
   "metadata": {},
   "outputs": [
    {
     "name": "stdout",
     "output_type": "stream",
     "text": [
      "[1, 4, 9, 16, 25, 36, 49, 64, 81, 100]\n"
     ]
    }
   ],
   "source": [
    "# Assignment 4\n",
    "square = [x**2 for x in range(1,11)]\n",
    "print(square)"
   ]
  },
  {
   "cell_type": "code",
   "execution_count": 16,
   "id": "ccfe2b67",
   "metadata": {},
   "outputs": [
    {
     "name": "stdout",
     "output_type": "stream",
     "text": [
      "[2, 4, 6, 8, 10]\n"
     ]
    }
   ],
   "source": [
    "# Assignment 5\n",
    "even_num = [x for x in st if x%2 == 0]\n",
    "print(even_num)"
   ]
  },
  {
   "cell_type": "code",
   "execution_count": 17,
   "id": "f9cda095",
   "metadata": {},
   "outputs": [
    {
     "name": "stdout",
     "output_type": "stream",
     "text": [
      "{1, 2, 3, 4, 5}\n"
     ]
    }
   ],
   "source": [
    "# Assignment 6\n",
    "st_duplicate = {1,3,2,4,2,5,4,3,5,1}\n",
    "print(st_duplicate)"
   ]
  },
  {
   "cell_type": "code",
   "execution_count": 19,
   "id": "6f035849",
   "metadata": {},
   "outputs": [
    {
     "name": "stdout",
     "output_type": "stream",
     "text": [
      "second set is the subset of the first set: True\n",
      "first set is the subset of the second set: True\n"
     ]
    }
   ],
   "source": [
    "# Assignment 7\n",
    "st1 = {1,2,3,4,5}\n",
    "st2 = {1,2,3}\n",
    "\n",
    "print(f\"second set is the subset of the first set: {st2.issubset(st1)}\")\n",
    "print(f\"first set is the subset of the second set: {st1.issuperset(st1)}\")"
   ]
  },
  {
   "cell_type": "code",
   "execution_count": 1,
   "id": "cbe9b5eb",
   "metadata": {},
   "outputs": [
    {
     "name": "stdout",
     "output_type": "stream",
     "text": [
      "frozenset({1, 2, 3, 4, 5})\n"
     ]
    }
   ],
   "source": [
    "# Assignment 8\n",
    "fs = frozenset(range(1,6))\n",
    "print(fs)"
   ]
  },
  {
   "cell_type": "code",
   "execution_count": 4,
   "id": "65466cd1",
   "metadata": {},
   "outputs": [
    {
     "name": "stdout",
     "output_type": "stream",
     "text": [
      "{1, 2, 3, 4, 5, 6}\n"
     ]
    }
   ],
   "source": [
    "# Assignment 9\n",
    "st = set(range(1,6))\n",
    "st_to_lst = list(st)\n",
    "st_to_lst.append(6)\n",
    "lst_to_st = set(st_to_lst)\n",
    "print(lst_to_st)"
   ]
  },
  {
   "cell_type": "code",
   "execution_count": 5,
   "id": "6b359afe",
   "metadata": {},
   "outputs": [
    {
     "name": "stdout",
     "output_type": "stream",
     "text": [
      "{frozenset({1, 2}): 3, frozenset({3, 4}): 7, frozenset({5, 6}): 11}\n"
     ]
    }
   ],
   "source": [
    "# Assignment 10\n",
    "d = {\n",
    "    frozenset({1, 2}): 3,\n",
    "    frozenset({3, 4}): 7,\n",
    "    frozenset({5, 6}): 11\n",
    "}\n",
    "print(d)"
   ]
  },
  {
   "cell_type": "code",
   "execution_count": 7,
   "id": "ec7e3d1e",
   "metadata": {},
   "outputs": [
    {
     "name": "stdout",
     "output_type": "stream",
     "text": [
      "1\n",
      "2\n",
      "3\n",
      "4\n",
      "5\n",
      "6\n",
      "7\n",
      "8\n",
      "9\n"
     ]
    }
   ],
   "source": [
    "# Assignment 11\n",
    "st = {1,2,3,4,5,6,7,8,9}\n",
    "for i in st:\n",
    "    print(i)"
   ]
  },
  {
   "cell_type": "code",
   "execution_count": 11,
   "id": "634461c6",
   "metadata": {},
   "outputs": [
    {
     "name": "stdout",
     "output_type": "stream",
     "text": [
      "{2, 3, 4, 5, 6, 7, 8, 9, 10}\n",
      "{3, 4, 5, 6, 7, 8, 9, 10}\n",
      "{4, 5, 6, 7, 8, 9, 10}\n",
      "{5, 6, 7, 8, 9, 10}\n",
      "{6, 7, 8, 9, 10}\n",
      "{7, 8, 9, 10}\n",
      "{8, 9, 10}\n",
      "{9, 10}\n",
      "{10}\n",
      "set()\n"
     ]
    }
   ],
   "source": [
    "# Assignment 12\n",
    "st = set(range(1,11))\n",
    "while st:\n",
    "    \n",
    "    st.pop()\n",
    "    print(st)\n"
   ]
  },
  {
   "cell_type": "code",
   "execution_count": 13,
   "id": "a28dedaa",
   "metadata": {},
   "outputs": [
    {
     "name": "stdout",
     "output_type": "stream",
     "text": [
      "{1, 2, 4, 5}\n"
     ]
    }
   ],
   "source": [
    "# Assignment 13\n",
    "st1 = {1,2,3}\n",
    "st2 = {3,4,5}\n",
    "\n",
    "st1.symmetric_difference_update(st2)\n",
    "print(st1)\n"
   ]
  },
  {
   "cell_type": "code",
   "execution_count": 14,
   "id": "4fa5d83a",
   "metadata": {},
   "outputs": [
    {
     "name": "stdout",
     "output_type": "stream",
     "text": [
      "2 is present in the set: True\n"
     ]
    }
   ],
   "source": [
    "# Assignment 14\n",
    "st = {1,4,2,6,7,4,4,7}\n",
    "\n",
    "print(f\"2 is present in the set: {2 in st}\")"
   ]
  },
  {
   "cell_type": "code",
   "execution_count": 15,
   "id": "9508068a",
   "metadata": {},
   "outputs": [
    {
     "name": "stdout",
     "output_type": "stream",
     "text": [
      "{(1, 2), (3, 4), (5, 6)}\n"
     ]
    }
   ],
   "source": [
    "# Assignment 15\n",
    "st = {(1,2),(3,4),(5,6)}\n",
    "print(st)"
   ]
  },
  {
   "cell_type": "code",
   "execution_count": null,
   "id": "ace047e0",
   "metadata": {},
   "outputs": [
    {
     "name": "stdout",
     "output_type": "stream",
     "text": [
      "<class 'dict'>\n"
     ]
    }
   ],
   "source": []
  },
  {
   "cell_type": "code",
   "execution_count": null,
   "id": "b8503104",
   "metadata": {},
   "outputs": [],
   "source": []
  }
 ],
 "metadata": {
  "kernelspec": {
   "display_name": "Python 3",
   "language": "python",
   "name": "python3"
  },
  "language_info": {
   "codemirror_mode": {
    "name": "ipython",
    "version": 3
   },
   "file_extension": ".py",
   "mimetype": "text/x-python",
   "name": "python",
   "nbconvert_exporter": "python",
   "pygments_lexer": "ipython3",
   "version": "3.10.5"
  }
 },
 "nbformat": 4,
 "nbformat_minor": 5
}
